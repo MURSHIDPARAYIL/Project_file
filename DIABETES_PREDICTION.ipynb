{
 "cells": [
  {
   "cell_type": "code",
   "execution_count": null,
   "id": "6fa3c006",
   "metadata": {},
   "outputs": [],
   "source": [
    "import pandas as pd\n",
    "import numpy as np\n",
    "import matplotlib.pyplot as plt\n",
    "from sklearn.preprocessing import StandardScaler\n",
    "from sklearn.model_selection import train_test_split  \n",
    "from sklearn.linear_model import LogisticRegression\n",
    "from sklearn.metrics import accuracy_score,confusion_matrix\n",
    "from scipy.stats import randint\n",
    "from sklearn.model_selection import RandomizedSearchCV"
   ]
  },
  {
   "cell_type": "code",
   "execution_count": null,
   "id": "f623f227",
   "metadata": {},
   "outputs": [],
   "source": [
    "npp = np.arange(0, 1.1, 0.1)\n"
   ]
  },
  {
   "cell_type": "code",
   "execution_count": null,
   "id": "d216ac38",
   "metadata": {},
   "outputs": [],
   "source": [
    "df = pd.read_csv('C:/Users/MURSHID/Desktop/Murshid_programs/diabetes.csv')"
   ]
  },
  {
   "cell_type": "code",
   "execution_count": null,
   "id": "8d5a545f",
   "metadata": {},
   "outputs": [],
   "source": [
    "df.head()"
   ]
  },
  {
   "cell_type": "code",
   "execution_count": null,
   "id": "1d576911",
   "metadata": {},
   "outputs": [],
   "source": [
    "df['Outcome'].unique()"
   ]
  },
  {
   "cell_type": "code",
   "execution_count": null,
   "id": "fadb06e5",
   "metadata": {},
   "outputs": [],
   "source": [
    "df.info()"
   ]
  },
  {
   "cell_type": "code",
   "execution_count": null,
   "id": "d885748f",
   "metadata": {},
   "outputs": [],
   "source": [
    "df.describe()"
   ]
  },
  {
   "cell_type": "code",
   "execution_count": null,
   "id": "748ab36b",
   "metadata": {},
   "outputs": [],
   "source": [
    "x = df.drop(columns = ['Outcome'],axis = 1)"
   ]
  },
  {
   "cell_type": "code",
   "execution_count": null,
   "id": "94dffb6e",
   "metadata": {},
   "outputs": [],
   "source": [
    "y = df['Outcome'].values"
   ]
  },
  {
   "cell_type": "code",
   "execution_count": null,
   "id": "d5add5b3",
   "metadata": {},
   "outputs": [],
   "source": [
    "sc = StandardScaler()\n",
    "X = sc.fit_transform(x)"
   ]
  },
  {
   "cell_type": "code",
   "execution_count": null,
   "id": "9e07d2d1",
   "metadata": {},
   "outputs": [],
   "source": [
    "x_train,x_test,y_train,y_test = train_test_split(X,y,test_size = 0.2,stratify=y,random_state = 2)"
   ]
  },
  {
   "cell_type": "code",
   "execution_count": null,
   "id": "341636f1",
   "metadata": {
    "scrolled": true
   },
   "outputs": [],
   "source": [
    "x_test.shape"
   ]
  },
  {
   "cell_type": "markdown",
   "id": "66b3a918",
   "metadata": {},
   "source": [
    "### Logistic regression"
   ]
  },
  {
   "cell_type": "code",
   "execution_count": null,
   "id": "bf8a24d8",
   "metadata": {},
   "outputs": [],
   "source": [
    "LogisticRegression_model = LogisticRegression()\n",
    "LogisticRegression_model.fit(x_train,y_train)"
   ]
  },
  {
   "cell_type": "code",
   "execution_count": null,
   "id": "a5504a69",
   "metadata": {},
   "outputs": [],
   "source": [
    "LogisticRegression_model_y_pred_train = LogisticRegression_model.predict(x_train)"
   ]
  },
  {
   "cell_type": "code",
   "execution_count": null,
   "id": "be4bfeb2",
   "metadata": {},
   "outputs": [],
   "source": [
    "accuracy_score(y_train,LogisticRegression_model_y_pred_train)"
   ]
  },
  {
   "cell_type": "code",
   "execution_count": null,
   "id": "232ef3b8",
   "metadata": {},
   "outputs": [],
   "source": [
    "LogisticRegression_model_y_pred_test = model.predict(x_test)"
   ]
  },
  {
   "cell_type": "code",
   "execution_count": null,
   "id": "ecff3797",
   "metadata": {},
   "outputs": [],
   "source": [
    "accuracy_score(y_test,LogisticRegression_model_y_pred_test)"
   ]
  },
  {
   "cell_type": "code",
   "execution_count": null,
   "id": "31231db5",
   "metadata": {},
   "outputs": [],
   "source": [
    "confusion_matrix(y_test,LogisticRegression_model_y_pred_test )"
   ]
  },
  {
   "cell_type": "code",
   "execution_count": null,
   "id": "3962bbbf",
   "metadata": {},
   "outputs": [],
   "source": [
    "LogisticRegression_model.score(x_train,y_train)"
   ]
  },
  {
   "cell_type": "code",
   "execution_count": null,
   "id": "ef1be0d1",
   "metadata": {
    "scrolled": true
   },
   "outputs": [],
   "source": [
    "LogisticRegression_model.score(x_test,y_test)"
   ]
  },
  {
   "cell_type": "markdown",
   "id": "0e8cd0ee",
   "metadata": {},
   "source": [
    " ### svm"
   ]
  },
  {
   "cell_type": "code",
   "execution_count": null,
   "id": "b69e94a8",
   "metadata": {},
   "outputs": [],
   "source": [
    "from sklearn.svm import SVC"
   ]
  },
  {
   "cell_type": "code",
   "execution_count": null,
   "id": "71b03ba1",
   "metadata": {},
   "outputs": [],
   "source": [
    "svm_model = SVC()"
   ]
  },
  {
   "cell_type": "code",
   "execution_count": null,
   "id": "a5e47e11",
   "metadata": {},
   "outputs": [],
   "source": [
    "svm_model.fit(x_train,y_train)"
   ]
  },
  {
   "cell_type": "code",
   "execution_count": null,
   "id": "76dde267",
   "metadata": {},
   "outputs": [],
   "source": [
    "svm_model.score(x_train,y_train)"
   ]
  },
  {
   "cell_type": "code",
   "execution_count": null,
   "id": "bb898c47",
   "metadata": {
    "scrolled": true
   },
   "outputs": [],
   "source": [
    "svm_model.score(x_test,y_test)"
   ]
  },
  {
   "cell_type": "code",
   "execution_count": null,
   "id": "79abec82",
   "metadata": {},
   "outputs": [],
   "source": [
    "svm_model_y_pred = svm_model.predict(x_test)"
   ]
  },
  {
   "cell_type": "code",
   "execution_count": null,
   "id": "ad40b74f",
   "metadata": {},
   "outputs": [],
   "source": [
    "accuracy_score(y_test,svm_model_y_pred)"
   ]
  },
  {
   "cell_type": "markdown",
   "id": "c6f5b49f",
   "metadata": {},
   "source": [
    "### random forest"
   ]
  },
  {
   "cell_type": "code",
   "execution_count": null,
   "id": "67e2e42f",
   "metadata": {},
   "outputs": [],
   "source": [
    "from sklearn.ensemble import RandomForestClassifier"
   ]
  },
  {
   "cell_type": "code",
   "execution_count": null,
   "id": "6d0a7d3b",
   "metadata": {},
   "outputs": [],
   "source": [
    "random_forest_model = RandomForestClassifier()"
   ]
  },
  {
   "cell_type": "code",
   "execution_count": null,
   "id": "283282ac",
   "metadata": {},
   "outputs": [],
   "source": [
    "random_forest_model.fit(x_train,y_train)"
   ]
  },
  {
   "cell_type": "code",
   "execution_count": null,
   "id": "795b20d8",
   "metadata": {},
   "outputs": [],
   "source": [
    "random_forest_model.score(x_test,y_test)\n"
   ]
  },
  {
   "cell_type": "code",
   "execution_count": null,
   "id": "181810de",
   "metadata": {},
   "outputs": [],
   "source": [
    "random_forest_model.score(x_train,y_train)\n"
   ]
  },
  {
   "cell_type": "code",
   "execution_count": null,
   "id": "70deb0db",
   "metadata": {},
   "outputs": [],
   "source": [
    "random_forest_model_y_pred_test = random_forest_model.predict(x_test)"
   ]
  },
  {
   "cell_type": "code",
   "execution_count": null,
   "id": "d230d1a4",
   "metadata": {},
   "outputs": [],
   "source": [
    "accuracy_score(y_test,random_forest_model_y_pred_test)"
   ]
  },
  {
   "cell_type": "markdown",
   "id": "fa77b235",
   "metadata": {},
   "source": [
    "### adaboosting"
   ]
  },
  {
   "cell_type": "code",
   "execution_count": null,
   "id": "c58a2a91",
   "metadata": {},
   "outputs": [],
   "source": [
    "from sklearn.ensemble import AdaBoostClassifier"
   ]
  },
  {
   "cell_type": "code",
   "execution_count": null,
   "id": "1254a073",
   "metadata": {},
   "outputs": [],
   "source": [
    "adaboosting_model = AdaBoostClassifier()"
   ]
  },
  {
   "cell_type": "code",
   "execution_count": null,
   "id": "729db6ca",
   "metadata": {},
   "outputs": [],
   "source": [
    "adaboosting_model.fit(x_train,y_train)"
   ]
  },
  {
   "cell_type": "code",
   "execution_count": null,
   "id": "0a18066d",
   "metadata": {},
   "outputs": [],
   "source": [
    "adaboosting_model.score(x_test,y_test)"
   ]
  },
  {
   "cell_type": "code",
   "execution_count": null,
   "id": "984abb25",
   "metadata": {},
   "outputs": [],
   "source": [
    "adaboosting_model.score(x_train,y_train)"
   ]
  },
  {
   "cell_type": "markdown",
   "id": "56965d51",
   "metadata": {},
   "source": [
    "### gradient boosting\n"
   ]
  },
  {
   "cell_type": "code",
   "execution_count": null,
   "id": "ad8cf414",
   "metadata": {},
   "outputs": [],
   "source": [
    "from sklearn.ensemble import GradientBoostingClassifier"
   ]
  },
  {
   "cell_type": "code",
   "execution_count": null,
   "id": "d28a19ab",
   "metadata": {},
   "outputs": [],
   "source": [
    "gradient_boosting_model = GradientBoostingClassifier()"
   ]
  },
  {
   "cell_type": "code",
   "execution_count": null,
   "id": "0e469a0a",
   "metadata": {},
   "outputs": [],
   "source": [
    "gradient_boosting_model.fit(x_train,y_train)"
   ]
  },
  {
   "cell_type": "code",
   "execution_count": null,
   "id": "13439502",
   "metadata": {},
   "outputs": [],
   "source": [
    "gradient_boosting_model.score(x_test,y_test)"
   ]
  },
  {
   "cell_type": "code",
   "execution_count": null,
   "id": "1d6c87d4",
   "metadata": {},
   "outputs": [],
   "source": [
    "gradient_boosting_model.score(x_train,y_train)"
   ]
  },
  {
   "cell_type": "markdown",
   "id": "73ac577c",
   "metadata": {},
   "source": [
    "### XG BOOSTING"
   ]
  },
  {
   "cell_type": "code",
   "execution_count": null,
   "id": "0c07657b",
   "metadata": {},
   "outputs": [],
   "source": [
    "from xgboost import XGBClassifier"
   ]
  },
  {
   "cell_type": "code",
   "execution_count": null,
   "id": "b51aabe4",
   "metadata": {},
   "outputs": [],
   "source": [
    "xg_boosting_model = XGBClassifier()"
   ]
  },
  {
   "cell_type": "code",
   "execution_count": null,
   "id": "805c072e",
   "metadata": {},
   "outputs": [],
   "source": [
    "xg_boosting_model.fit(x_train,y_train)"
   ]
  },
  {
   "cell_type": "code",
   "execution_count": null,
   "id": "c6bba444",
   "metadata": {},
   "outputs": [],
   "source": [
    "xg_boosting_y_pred_train = xg_boosting_model.predict(x_train)"
   ]
  },
  {
   "cell_type": "code",
   "execution_count": null,
   "id": "c370e14b",
   "metadata": {},
   "outputs": [],
   "source": [
    "xg_boosting_accuracy_train = accuracy_score(y_train,predict_train)"
   ]
  },
  {
   "cell_type": "code",
   "execution_count": null,
   "id": "499f3de9",
   "metadata": {},
   "outputs": [],
   "source": [
    "xg_boosting_accuracy_train"
   ]
  },
  {
   "cell_type": "code",
   "execution_count": null,
   "id": "b82550f6",
   "metadata": {},
   "outputs": [],
   "source": [
    "predict_test = xg_boosting_model.predict(x_test)"
   ]
  },
  {
   "cell_type": "code",
   "execution_count": null,
   "id": "149b1b77",
   "metadata": {},
   "outputs": [],
   "source": [
    "accuracy_test = accuracy_score(y_test,predict_test)\n",
    "accuracy_test"
   ]
  },
  {
   "cell_type": "markdown",
   "id": "6b2a3e53",
   "metadata": {},
   "source": [
    "### gradient boosting with hyperparameter tuning"
   ]
  },
  {
   "cell_type": "code",
   "execution_count": null,
   "id": "3d0354b0",
   "metadata": {},
   "outputs": [],
   "source": [
    "from sklearn.ensemble import GradientBoostingClassifier"
   ]
  },
  {
   "cell_type": "code",
   "execution_count": null,
   "id": "0209b605",
   "metadata": {},
   "outputs": [],
   "source": [
    "gb_param_grid= {\n",
    "    'n_estimators':randint(10,300),\n",
    "    'loss':['log_loss','exponential'],\n",
    "    'learning_rate' : np.arange(0.1, 1.1, 0.1),\n",
    "    'subsample': np.arange(0.1, 1.1, 0.1),\n",
    "    'criterion' : ['friedman_mse', 'squared_error'],\n",
    "    'max_features':randint(1, 30),\n",
    "    'min_samples_split': randint(1, 30),\n",
    "    'max_depth': randint(1,30),\n",
    "    'max_leaf_nodes': randint(2,30)\n",
    " }"
   ]
  },
  {
   "cell_type": "code",
   "execution_count": null,
   "id": "4e21f4b1",
   "metadata": {},
   "outputs": [],
   "source": [
    "#gb_ht = gradient boosting with hyperparameter tuning\n",
    "gb_ht_model = GradientBoostingClassifier()"
   ]
  },
  {
   "cell_type": "code",
   "execution_count": null,
   "id": "24233b23",
   "metadata": {},
   "outputs": [],
   "source": [
    "#gb_RCV = gradient boosting  using randomized CV\n",
    "gb_RCV = RandomizedSearchCV(estimator = gb_ht_model, param_distributions = gb_param_grid, cv = 10, n_iter = 30)"
   ]
  },
  {
   "cell_type": "code",
   "execution_count": null,
   "id": "efec1774",
   "metadata": {},
   "outputs": [],
   "source": [
    "gb_RCV.fit(x_train,y_train)"
   ]
  },
  {
   "cell_type": "code",
   "execution_count": null,
   "id": "af40c262",
   "metadata": {},
   "outputs": [],
   "source": [
    "gb_RCV.best_estimator_"
   ]
  },
  {
   "cell_type": "code",
   "execution_count": null,
   "id": "d1b5d5e4",
   "metadata": {},
   "outputs": [],
   "source": [
    "gb_RCV.best_score_"
   ]
  },
  {
   "cell_type": "code",
   "execution_count": null,
   "id": "a3aaab82",
   "metadata": {},
   "outputs": [],
   "source": [
    "gb_RCV.score(x_train,y_train)"
   ]
  },
  {
   "cell_type": "code",
   "execution_count": null,
   "id": "f53991ad",
   "metadata": {},
   "outputs": [],
   "source": [
    "gb_RCV.score(x_test,y_test)"
   ]
  },
  {
   "cell_type": "code",
   "execution_count": null,
   "id": "a75e05ed",
   "metadata": {},
   "outputs": [],
   "source": [
    "gb_y_pred = gb_RCV.predict(x_test)"
   ]
  },
  {
   "cell_type": "markdown",
   "id": "a4006dd8",
   "metadata": {},
   "source": [
    "### ADA boosting with hyperparameter tuning"
   ]
  },
  {
   "cell_type": "code",
   "execution_count": null,
   "id": "af6fb05d",
   "metadata": {},
   "outputs": [],
   "source": [
    "#ab_ht = ADA boosting with hyperparameter tuning\n",
    "from sklearn.ensemble import AdaBoostClassifier\n",
    "ab_ht_model = AdaBoostClassifier()"
   ]
  },
  {
   "cell_type": "code",
   "execution_count": null,
   "id": "cdfc0a25",
   "metadata": {},
   "outputs": [],
   "source": [
    "ab_param_grid = {\n",
    "    'n_estimators':randint(10,300),\n",
    "    'learning_rate' : np.arange(0.1, 1.1, 0.1),\n",
    "    'algorithm': ['SAMME','SAMME.R']\n",
    "}"
   ]
  },
  {
   "cell_type": "code",
   "execution_count": null,
   "id": "ce484131",
   "metadata": {},
   "outputs": [],
   "source": [
    "#ab_RCV = ADA boosting using randomized CV\n",
    "ab_RCV = RandomizedSearchCV(estimator =ab_ht_model, param_distributions = ab_param_grid, cv = 10, n_iter = 30)"
   ]
  },
  {
   "cell_type": "code",
   "execution_count": null,
   "id": "da6e4161",
   "metadata": {},
   "outputs": [],
   "source": [
    "ab_RCV.fit(x_train,y_train)"
   ]
  },
  {
   "cell_type": "code",
   "execution_count": null,
   "id": "1ea1d24b",
   "metadata": {},
   "outputs": [],
   "source": [
    "ab_RCV.best_estimator_"
   ]
  },
  {
   "cell_type": "code",
   "execution_count": null,
   "id": "257a4693",
   "metadata": {},
   "outputs": [],
   "source": [
    "ab_RCV.best_score_"
   ]
  },
  {
   "cell_type": "code",
   "execution_count": null,
   "id": "63933253",
   "metadata": {},
   "outputs": [],
   "source": [
    "ab_RCV.score(x_train,y_train)"
   ]
  },
  {
   "cell_type": "code",
   "execution_count": null,
   "id": "7133e9a9",
   "metadata": {},
   "outputs": [],
   "source": [
    "ab_RCV.score(x_test,y_test)"
   ]
  },
  {
   "cell_type": "markdown",
   "id": "c84e7666",
   "metadata": {},
   "source": [
    "### xgb hyper tuning"
   ]
  },
  {
   "cell_type": "code",
   "execution_count": null,
   "id": "11ee51e2",
   "metadata": {},
   "outputs": [],
   "source": [
    "#xgb_ht = xg boost with hyperparameter tuning \n",
    "from xgboost import XGBClassifier\n",
    "xgb_ht_model = XGBClassifier()"
   ]
  },
  {
   "cell_type": "code",
   "execution_count": null,
   "id": "f5e85a9d",
   "metadata": {},
   "outputs": [],
   "source": [
    "xgb_param_grid = {\n",
    "    'learning_rate' :  np.arange(0.1, 1.1, 0.1),\n",
    "    'n_estimators' : randint(10,300),\n",
    "    'max_depth' : randint(1,30),\n",
    "    'min_child_weight' : randint(1,15),\n",
    "    'gamma' : randint(1,5),\n",
    "    'subsample' :  np.arange(0.1, 1.1, 0.1),\n",
    "    'colsample_bytree' : np.arange(0.1, 1.0, 0.1),\n",
    "    'objective' : ['binary:logistic','reg:squarederror','reg:squaredlogerror','reg:logistic','reg:pseudohubererror','reg:absoluteerror','reg:quantileerror'],\n",
    "    'nthread' : randint(1,5),    \n",
    "    'seed' : randint(27,28), \n",
    "    #'quantile_alpha' : np.arange(0.1, 1.1, 0.1)\n",
    "}"
   ]
  },
  {
   "cell_type": "code",
   "execution_count": null,
   "id": "df9aacec",
   "metadata": {},
   "outputs": [],
   "source": [
    "#xgb_RCV = xg boost with randmized CV\n",
    "xgb_RCV = RandomizedSearchCV(estimator = xgb_ht_model, param_distributions = xgb_param_grid, cv = 10, n_iter = 30)"
   ]
  },
  {
   "cell_type": "code",
   "execution_count": null,
   "id": "4c0927ab",
   "metadata": {
    "scrolled": true
   },
   "outputs": [],
   "source": [
    "xgb_RCV.fit(x_train,y_train)"
   ]
  },
  {
   "cell_type": "code",
   "execution_count": null,
   "id": "ef964472",
   "metadata": {},
   "outputs": [],
   "source": [
    "xgb_RCV_y_pred_train = xgb_RCV.predict(x_train)"
   ]
  },
  {
   "cell_type": "code",
   "execution_count": null,
   "id": "5f56c9ef",
   "metadata": {},
   "outputs": [],
   "source": [
    "xgb_RCV_accuracy_train = accuracy_score(y_train,xgb_RCV_y_pred_train)\n",
    "xgb_RCV_accuracy_train"
   ]
  },
  {
   "cell_type": "code",
   "execution_count": null,
   "id": "9f317d31",
   "metadata": {},
   "outputs": [],
   "source": [
    "xgb_RCV.score(x_train,y_train)"
   ]
  },
  {
   "cell_type": "code",
   "execution_count": null,
   "id": "980f44ae",
   "metadata": {},
   "outputs": [],
   "source": [
    "xgb_RCV.score(x_test,y_test)"
   ]
  },
  {
   "cell_type": "markdown",
   "id": "0d3de07e",
   "metadata": {},
   "source": [
    "### random forest with hyperparameter tuning"
   ]
  },
  {
   "cell_type": "code",
   "execution_count": null,
   "id": "a8a67fba",
   "metadata": {},
   "outputs": [],
   "source": [
    "#rf_ht = random forest with hyperparameter tuning\n",
    "from sklearn.ensemble import RandomForestClassifier\n",
    "rf_ht_model = RandomForestClassifier()"
   ]
  },
  {
   "cell_type": "code",
   "execution_count": null,
   "id": "2a3a845f",
   "metadata": {},
   "outputs": [],
   "source": [
    "rf_param_grid = {\n",
    "    'n_estimators' : randint(10,300),\n",
    "    'max_features':randint(1, 30),\n",
    "    'max_depth': randint(1,20),\n",
    "    'max_samples': np.arange(0.1, 1.1, 0.1),\n",
    "    'criterion' : ['gini', 'entropy','log_loss'],          \n",
    "}"
   ]
  },
  {
   "cell_type": "code",
   "execution_count": null,
   "id": "5779a4c3",
   "metadata": {},
   "outputs": [],
   "source": [
    "#rf_RCV  = random forest using randomized CV\n",
    "rf_RCV = RandomizedSearchCV(estimator = rf_ht_model, param_distributions = rf_param_grid, cv = 10, n_iter = 30)"
   ]
  },
  {
   "cell_type": "code",
   "execution_count": null,
   "id": "b4b77df1",
   "metadata": {},
   "outputs": [],
   "source": [
    "rf_RCV.fit(x_train,y_train)"
   ]
  },
  {
   "cell_type": "code",
   "execution_count": null,
   "id": "27efc3f0",
   "metadata": {},
   "outputs": [],
   "source": [
    "rf_RCV_y_pred_train = rf_RCV.predict(x_train)"
   ]
  },
  {
   "cell_type": "code",
   "execution_count": null,
   "id": "86e188cc",
   "metadata": {},
   "outputs": [],
   "source": [
    "rf_RCV_accuracy_train = accuracy_score(y_train,rf_RCV_y_pred_train)\n",
    "rf_RCV_accuracy_train"
   ]
  },
  {
   "cell_type": "code",
   "execution_count": null,
   "id": "1ab7ce63",
   "metadata": {},
   "outputs": [],
   "source": [
    "rf_RCV.score(x_train,y_train)"
   ]
  },
  {
   "cell_type": "code",
   "execution_count": null,
   "id": "6c50c821",
   "metadata": {
    "scrolled": true
   },
   "outputs": [],
   "source": [
    "rf_RCV.score(x_test,y_test)"
   ]
  },
  {
   "cell_type": "markdown",
   "id": "fb113d12",
   "metadata": {},
   "source": [
    "### INPUT PREDICTIONS"
   ]
  },
  {
   "cell_type": "code",
   "execution_count": null,
   "id": "7c3d0a4c",
   "metadata": {},
   "outputs": [],
   "source": [
    "input1 = (6,148,72,35,0,33.6,0.62,50)\n",
    "input_data_as_numpy_array1 = np.asarray(input1)\n",
    "input_data_reshaped1 = input_data_as_numpy_array1.reshape(1,-1)\n",
    "std_data1 = sc.transform(input_data_reshaped1)\n",
    "std_data1 "
   ]
  },
  {
   "cell_type": "code",
   "execution_count": null,
   "id": "5316cd41",
   "metadata": {},
   "outputs": [],
   "source": [
    "input2 = (1,85,66,29,0,26.6,0.351,31)\n",
    "input_data_as_numpy_array2 = np.asarray(input2)\n",
    "input_data_reshaped2 = input_data_as_numpy_array2.reshape(1,-1)\n",
    "std_data2 = sc.transform(input_data_reshaped2)\n",
    "std_data2 "
   ]
  },
  {
   "cell_type": "code",
   "execution_count": null,
   "id": "371f3977",
   "metadata": {},
   "outputs": [],
   "source": [
    "#LogisticRegression_model PREDICTION\n",
    "LR_pediction1 = LogisticRegression_model.predict(std_data1)\n",
    "LR_pediction2 = LogisticRegression_model.predict(std_data2)\n",
    "print(LR_pediction1)\n",
    "print(LR_pediction2)"
   ]
  },
  {
   "cell_type": "code",
   "execution_count": null,
   "id": "975ecc18",
   "metadata": {},
   "outputs": [],
   "source": [
    "#svm_model PREDICTION\n",
    "svm_model_pediction1 = svm_model.predict(std_data1)\n",
    "svm_model_pediction2 = svm_model.predict(std_data2)\n",
    "print(svm_model_pediction1)\n",
    "print(svm_model_pediction2)"
   ]
  },
  {
   "cell_type": "code",
   "execution_count": null,
   "id": "7de6743b",
   "metadata": {},
   "outputs": [],
   "source": [
    "#random_forest_model PREDICTION\n",
    "random_forest_model_pediction1 = random_forest_model.predict(std_data1)\n",
    "random_forest_model_pediction2 = random_forest_model.predict(std_data2)\n",
    "print(random_forest_model_pediction1)\n",
    "print(random_forest_model_pediction2)"
   ]
  },
  {
   "cell_type": "code",
   "execution_count": null,
   "id": "0ce4b96c",
   "metadata": {},
   "outputs": [],
   "source": [
    "#adaboosting_model PREDICTION\n",
    "adaboosting_model_pediction1 = adaboosting_model.predict(std_data1)\n",
    "adaboosting_model_pediction2 = adaboosting_model.predict(std_data2)\n",
    "print(adaboosting_model_pediction1)\n",
    "print(adaboosting_model_pediction2)"
   ]
  },
  {
   "cell_type": "code",
   "execution_count": null,
   "id": "d167c5b4",
   "metadata": {},
   "outputs": [],
   "source": [
    "#gradient_boosting_model PREDICTION\n",
    "gradient_boosting_model_pediction1 = gradient_boosting_model.predict(std_data1)\n",
    "gradient_boosting_model_pediction2 = gradient_boosting_model.predict(std_data2)\n",
    "print(gradient_boosting_model_pediction1)\n",
    "print(gradient_boosting_model_pediction2)"
   ]
  },
  {
   "cell_type": "code",
   "execution_count": null,
   "id": "254a0086",
   "metadata": {},
   "outputs": [],
   "source": [
    "#xg_boosting_model PREDICTION\n",
    "xg_boosting_model_pediction1 = xg_boosting_model.predict(std_data1)\n",
    "xg_boosting_model_pediction2 = xg_boosting_model.predict(std_data2)\n",
    "print(xg_boosting_model_pediction1)\n",
    "print(xg_boosting_model_pediction2)"
   ]
  },
  {
   "cell_type": "code",
   "execution_count": null,
   "id": "6d5b797d",
   "metadata": {},
   "outputs": [],
   "source": [
    "#gradient_boosting_with hyper parameter PREDICTION\n",
    "gb_RCV_pediction1 = gb_RCV.predict(std_data1)\n",
    "gb_RCV_pediction2 = gb_RCV.predict(std_data2)\n",
    "print(gb_RCV_pediction1)\n",
    "print(gb_RCV_pediction2)"
   ]
  },
  {
   "cell_type": "code",
   "execution_count": null,
   "id": "87966419",
   "metadata": {},
   "outputs": [],
   "source": [
    "#ada_boosting_with hyper parameter PREDICTION\n",
    "ab_RCV_pediction1 = ab_RCV.predict(std_data1)\n",
    "ab_RCV_pediction2 = ab_RCV.predict(std_data2)\n",
    "print(ab_RCV_pediction1)\n",
    "print(ab_RCV_pediction2)"
   ]
  },
  {
   "cell_type": "code",
   "execution_count": null,
   "id": "21593f31",
   "metadata": {},
   "outputs": [],
   "source": [
    "#XG_boosting_with hyper parameter PREDICTION\n",
    "xgb_RCV_pediction1 = xgb_RCV.predict(std_data1)\n",
    "xgb_RCV_pediction2 = xgb_RCV.predict(std_data2)\n",
    "print(xgb_RCV_pediction1)\n",
    "print(xgb_RCV_pediction2)"
   ]
  },
  {
   "cell_type": "code",
   "execution_count": null,
   "id": "55f525b0",
   "metadata": {},
   "outputs": [],
   "source": [
    "rf_RCV\n",
    "#XG_boosting_with hyper parameter PREDICTION\n",
    "rf_RCV_pediction1 = rf_RCV.predict(std_data1)\n",
    "rf_RCV_pediction2 = rf_RCV.predict(std_data2)\n",
    "print(rf_RCV_pediction1)\n",
    "print(rf_RCV_pediction2)"
   ]
  },
  {
   "cell_type": "code",
   "execution_count": null,
   "id": "dbf0f91a",
   "metadata": {},
   "outputs": [],
   "source": []
  }
 ],
 "metadata": {
  "kernelspec": {
   "display_name": "Python 3 (ipykernel)",
   "language": "python",
   "name": "python3"
  },
  "language_info": {
   "codemirror_mode": {
    "name": "ipython",
    "version": 3
   },
   "file_extension": ".py",
   "mimetype": "text/x-python",
   "name": "python",
   "nbconvert_exporter": "python",
   "pygments_lexer": "ipython3",
   "version": "3.10.9"
  }
 },
 "nbformat": 4,
 "nbformat_minor": 5
}
