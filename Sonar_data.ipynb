{
 "cells": [
  {
   "cell_type": "code",
   "execution_count": null,
   "id": "cfc9092d",
   "metadata": {},
   "outputs": [],
   "source": [
    "import pandas as pd\n",
    "import numpy as np\n",
    "import matplotlib.pyplot as plt\n",
    "from sklearn.preprocessing import StandardScaler\n",
    "from sklearn.model_selection import train_test_split  \n",
    "from sklearn.linear_model import LogisticRegression\n",
    "from sklearn.metrics import accuracy_score,confusion_matrix"
   ]
  },
  {
   "cell_type": "code",
   "execution_count": null,
   "id": "4635a8ad",
   "metadata": {},
   "outputs": [],
   "source": [
    "df = pd.read_csv('C:/Users/MURSHID/Desktop/Murshid_programs/Copy of sonar data.csv')"
   ]
  },
  {
   "cell_type": "markdown",
   "id": "b2de5e44",
   "metadata": {},
   "source": [
    "### EDA"
   ]
  },
  {
   "cell_type": "code",
   "execution_count": null,
   "id": "b5d4d918",
   "metadata": {
    "scrolled": false
   },
   "outputs": [],
   "source": [
    "df.head()"
   ]
  },
  {
   "cell_type": "code",
   "execution_count": null,
   "id": "ad0f122d",
   "metadata": {},
   "outputs": [],
   "source": [
    "pd.set_option('display.max_columns',61)"
   ]
  },
  {
   "cell_type": "code",
   "execution_count": null,
   "id": "68c8f78f",
   "metadata": {},
   "outputs": [],
   "source": [
    "df"
   ]
  },
  {
   "cell_type": "code",
   "execution_count": null,
   "id": "3c8793a8",
   "metadata": {},
   "outputs": [],
   "source": [
    "df.info()"
   ]
  },
  {
   "cell_type": "code",
   "execution_count": null,
   "id": "58250068",
   "metadata": {},
   "outputs": [],
   "source": [
    "df.corr()"
   ]
  },
  {
   "cell_type": "code",
   "execution_count": null,
   "id": "8bbd982b",
   "metadata": {},
   "outputs": [],
   "source": [
    "df.isna().sum()"
   ]
  },
  {
   "cell_type": "code",
   "execution_count": null,
   "id": "38fe7554",
   "metadata": {},
   "outputs": [],
   "source": [
    "x = df.iloc[:,:-1].values"
   ]
  },
  {
   "cell_type": "code",
   "execution_count": null,
   "id": "03cf2608",
   "metadata": {},
   "outputs": [],
   "source": [
    "sc = StandardScaler()\n",
    "X = sc.fit_transform(x)"
   ]
  },
  {
   "cell_type": "code",
   "execution_count": null,
   "id": "67f69879",
   "metadata": {},
   "outputs": [],
   "source": [
    "y = df.iloc[:,-1].values"
   ]
  },
  {
   "cell_type": "code",
   "execution_count": null,
   "id": "7e96be79",
   "metadata": {},
   "outputs": [],
   "source": [
    "X"
   ]
  },
  {
   "cell_type": "code",
   "execution_count": null,
   "id": "8d8969d9",
   "metadata": {},
   "outputs": [],
   "source": [
    "#train test split\n",
    "x_train,x_test,y_train,y_test = train_test_split(x,y,test_size = 0.2,stratify=y,random_state = 0)"
   ]
  },
  {
   "cell_type": "code",
   "execution_count": null,
   "id": "ef63a27d",
   "metadata": {},
   "outputs": [],
   "source": [
    "x_train.shape"
   ]
  },
  {
   "cell_type": "code",
   "execution_count": null,
   "id": "7524c6fe",
   "metadata": {
    "scrolled": true
   },
   "outputs": [],
   "source": [
    "x_test.shape"
   ]
  },
  {
   "cell_type": "markdown",
   "id": "3c9fb87c",
   "metadata": {},
   "source": [
    "### LogisticRegression()"
   ]
  },
  {
   "cell_type": "code",
   "execution_count": null,
   "id": "f0465e28",
   "metadata": {},
   "outputs": [],
   "source": [
    "model = LogisticRegression()"
   ]
  },
  {
   "cell_type": "code",
   "execution_count": null,
   "id": "2f58f107",
   "metadata": {
    "scrolled": true
   },
   "outputs": [],
   "source": [
    "model.fit(x_train,y_train)"
   ]
  },
  {
   "cell_type": "code",
   "execution_count": null,
   "id": "337f5c0e",
   "metadata": {},
   "outputs": [],
   "source": [
    "y_pred_train = model.predict(x_train)"
   ]
  },
  {
   "cell_type": "code",
   "execution_count": null,
   "id": "e694fb8c",
   "metadata": {},
   "outputs": [],
   "source": [
    "accuracy_score(y_train,y_pred_train)"
   ]
  },
  {
   "cell_type": "code",
   "execution_count": null,
   "id": "deb74980",
   "metadata": {},
   "outputs": [],
   "source": [
    "y_pred = model.predict(x_test)"
   ]
  },
  {
   "cell_type": "code",
   "execution_count": null,
   "id": "b0334ee6",
   "metadata": {},
   "outputs": [],
   "source": [
    "accuracy_score(y_test,y_pred)"
   ]
  },
  {
   "cell_type": "code",
   "execution_count": null,
   "id": "4b70a1ac",
   "metadata": {
    "scrolled": true
   },
   "outputs": [],
   "source": [
    "confusion_matrix(y_test,y_pred)"
   ]
  },
  {
   "cell_type": "markdown",
   "id": "bdfbc220",
   "metadata": {},
   "source": [
    "### svm\n"
   ]
  },
  {
   "cell_type": "code",
   "execution_count": null,
   "id": "488ef5fb",
   "metadata": {},
   "outputs": [],
   "source": [
    "from sklearn.svm import SVC"
   ]
  },
  {
   "cell_type": "code",
   "execution_count": null,
   "id": "8246d005",
   "metadata": {},
   "outputs": [],
   "source": [
    "model1 = SVC(kernel = 'poly')#rbf,linear"
   ]
  },
  {
   "cell_type": "code",
   "execution_count": null,
   "id": "19b5cffb",
   "metadata": {},
   "outputs": [],
   "source": [
    "model1.fit(x_train,y_train)"
   ]
  },
  {
   "cell_type": "code",
   "execution_count": null,
   "id": "ebcaa18f",
   "metadata": {},
   "outputs": [],
   "source": [
    "model1.score(x_train,y_train)\n"
   ]
  },
  {
   "cell_type": "code",
   "execution_count": null,
   "id": "44a884fc",
   "metadata": {},
   "outputs": [],
   "source": [
    "model1.score(x_test,y_test)"
   ]
  },
  {
   "cell_type": "code",
   "execution_count": null,
   "id": "e46a3539",
   "metadata": {},
   "outputs": [],
   "source": [
    "y_pred3 = model1.predict(x_test)"
   ]
  },
  {
   "cell_type": "code",
   "execution_count": null,
   "id": "a7e67e66",
   "metadata": {},
   "outputs": [],
   "source": [
    "accuracy_score(y_test,y_pred3)"
   ]
  },
  {
   "cell_type": "code",
   "execution_count": null,
   "id": "51b50779",
   "metadata": {},
   "outputs": [],
   "source": [
    "confusion_matrix(y_test,y_pred3)"
   ]
  },
  {
   "cell_type": "markdown",
   "id": "0e563371",
   "metadata": {},
   "source": [
    "### Decision trees"
   ]
  },
  {
   "cell_type": "code",
   "execution_count": null,
   "id": "e974a7c9",
   "metadata": {},
   "outputs": [],
   "source": [
    "from sklearn.tree import DecisionTreeClassifier"
   ]
  },
  {
   "cell_type": "code",
   "execution_count": null,
   "id": "4d1c4895",
   "metadata": {},
   "outputs": [],
   "source": [
    "model2 = DecisionTreeClassifier(criterion='gini')"
   ]
  },
  {
   "cell_type": "code",
   "execution_count": null,
   "id": "e44dd2b8",
   "metadata": {},
   "outputs": [],
   "source": [
    "model2.fit(x_train,y_train)"
   ]
  },
  {
   "cell_type": "code",
   "execution_count": null,
   "id": "300694c8",
   "metadata": {},
   "outputs": [],
   "source": [
    "y_pred2 = model2.predict(x_test)"
   ]
  },
  {
   "cell_type": "code",
   "execution_count": null,
   "id": "d999316a",
   "metadata": {},
   "outputs": [],
   "source": [
    "accuracy_score(y_test,y_pred2)"
   ]
  },
  {
   "cell_type": "code",
   "execution_count": null,
   "id": "47922695",
   "metadata": {},
   "outputs": [],
   "source": [
    "confusion_matrix(y_test,y_pred2)"
   ]
  },
  {
   "cell_type": "markdown",
   "id": "2ae0fdc5",
   "metadata": {},
   "source": [
    "Random forest\n"
   ]
  },
  {
   "cell_type": "code",
   "execution_count": null,
   "id": "a1aa4125",
   "metadata": {},
   "outputs": [],
   "source": [
    "from sklearn.ensemble import RandomForestClassifier"
   ]
  },
  {
   "cell_type": "code",
   "execution_count": null,
   "id": "0a5dd2f0",
   "metadata": {},
   "outputs": [],
   "source": [
    "model3 = RandomForestClassifier()                       "
   ]
  },
  {
   "cell_type": "code",
   "execution_count": null,
   "id": "bf76197e",
   "metadata": {},
   "outputs": [],
   "source": [
    "model3.fit(x_train,y_train)"
   ]
  },
  {
   "cell_type": "code",
   "execution_count": null,
   "id": "384cd22d",
   "metadata": {
    "scrolled": true
   },
   "outputs": [],
   "source": [
    "model3.score(x_test,y_test)"
   ]
  },
  {
   "cell_type": "code",
   "execution_count": null,
   "id": "5a2c561d",
   "metadata": {},
   "outputs": [],
   "source": [
    "model3.score(x_train,y_train)"
   ]
  },
  {
   "cell_type": "code",
   "execution_count": null,
   "id": "b91d9a4b",
   "metadata": {},
   "outputs": [],
   "source": [
    "y_pred4 = model3.predict(x_test)"
   ]
  },
  {
   "cell_type": "code",
   "execution_count": null,
   "id": "ad0f075d",
   "metadata": {},
   "outputs": [],
   "source": [
    "accuracy_score(y_test,y_pred4)"
   ]
  },
  {
   "cell_type": "markdown",
   "id": "2af14cab",
   "metadata": {},
   "source": [
    "Randmoized search CV"
   ]
  },
  {
   "cell_type": "code",
   "execution_count": null,
   "id": "6ad273f2",
   "metadata": {},
   "outputs": [],
   "source": [
    "from sklearn.model_selection import RandomizedSearchCV\n",
    "from scipy.stats import randint"
   ]
  },
  {
   "cell_type": "code",
   "execution_count": null,
   "id": "184dd137",
   "metadata": {},
   "outputs": [],
   "source": [
    "param_grid = {'n_estimators':randint(50,300),\n",
    "              'max_features':randint(1, 20),\n",
    "              'max_depth': randint(1,20),\n",
    "              'max_samples': randint(1,20)}"
   ]
  },
  {
   "cell_type": "code",
   "execution_count": null,
   "id": "71158a95",
   "metadata": {},
   "outputs": [],
   "source": [
    "model5 = RandomForestClassifier()"
   ]
  },
  {
   "cell_type": "code",
   "execution_count": null,
   "id": "884c35ca",
   "metadata": {},
   "outputs": [],
   "source": [
    "random_search = RandomizedSearchCV(estimator = model5, param_distributions = param_grid, cv = 10, n_iter = 30)"
   ]
  },
  {
   "cell_type": "code",
   "execution_count": null,
   "id": "b042a847",
   "metadata": {
    "scrolled": true
   },
   "outputs": [],
   "source": [
    "random_search.fit(x_train,y_train)"
   ]
  },
  {
   "cell_type": "code",
   "execution_count": null,
   "id": "7b8c68c4",
   "metadata": {},
   "outputs": [],
   "source": [
    "random_search.best_estimator_"
   ]
  },
  {
   "cell_type": "code",
   "execution_count": null,
   "id": "3a5aa763",
   "metadata": {},
   "outputs": [],
   "source": [
    "random_search.best_score_"
   ]
  },
  {
   "cell_type": "code",
   "execution_count": null,
   "id": "de27976b",
   "metadata": {},
   "outputs": [],
   "source": [
    "random_search.score(x_train,y_train)"
   ]
  },
  {
   "cell_type": "code",
   "execution_count": null,
   "id": "4a07f1f2",
   "metadata": {
    "scrolled": true
   },
   "outputs": [],
   "source": [
    "random_search.score(x_test,y_test)"
   ]
  },
  {
   "cell_type": "markdown",
   "id": "bfb5a55f",
   "metadata": {},
   "source": [
    "### adaboost classifier"
   ]
  },
  {
   "cell_type": "code",
   "execution_count": null,
   "id": "099f00fc",
   "metadata": {},
   "outputs": [],
   "source": [
    "from sklearn.ensemble import AdaBoostClassifier"
   ]
  },
  {
   "cell_type": "code",
   "execution_count": null,
   "id": "e52d1fc1",
   "metadata": {},
   "outputs": [],
   "source": [
    "model6 = AdaBoostClassifier()"
   ]
  },
  {
   "cell_type": "code",
   "execution_count": null,
   "id": "5c514582",
   "metadata": {},
   "outputs": [],
   "source": [
    "param_grid1 = {'learning_rate' : [0.1,0.2,0.3,0.4,0.5,0.6,0.7,0.8,0.9]}"
   ]
  },
  {
   "cell_type": "code",
   "execution_count": null,
   "id": "7d62390e",
   "metadata": {},
   "outputs": [],
   "source": [
    "random_search1 = RandomizedSearchCV(estimator = model6, param_distributions = param_grid1, cv = 10, n_iter = 30)"
   ]
  },
  {
   "cell_type": "code",
   "execution_count": null,
   "id": "428f191a",
   "metadata": {},
   "outputs": [],
   "source": [
    "random_search1.fit(x_train,y_train)"
   ]
  },
  {
   "cell_type": "code",
   "execution_count": null,
   "id": "69d5f4fe",
   "metadata": {},
   "outputs": [],
   "source": [
    "random_search1.best_estimator_"
   ]
  },
  {
   "cell_type": "code",
   "execution_count": null,
   "id": "e38a8028",
   "metadata": {},
   "outputs": [],
   "source": [
    "random_search1.best_score_"
   ]
  },
  {
   "cell_type": "code",
   "execution_count": null,
   "id": "36147caf",
   "metadata": {},
   "outputs": [],
   "source": [
    "random_search1.score(x_train,y_train)"
   ]
  },
  {
   "cell_type": "code",
   "execution_count": null,
   "id": "dc352b93",
   "metadata": {},
   "outputs": [],
   "source": [
    "random_search1.score(x_test,y_test)"
   ]
  },
  {
   "cell_type": "markdown",
   "id": "b464333f",
   "metadata": {},
   "source": [
    "### gradient boost "
   ]
  },
  {
   "cell_type": "code",
   "execution_count": null,
   "id": "419fcb89",
   "metadata": {},
   "outputs": [],
   "source": [
    "param_grid2 = {'n_estimators':randint(50,300),\n",
    "              'loss':['log_loss','exponential'],\n",
    "              'learning_rate' : [0.1,0.2,0.3,0.4,0.5,0.6,0.7,0.9,0.8],\n",
    "              'subsample': [0.1,0.2,0.3,0.4,0.5,0.6,0.7,0.9,0.8],\n",
    "              'criterion' : ['friedman_mse', 'squared_error'],\n",
    "              'max_features':randint(1, 20),\n",
    "              'min_samples_split': randint(1, 20),\n",
    "              'max_depth': randint(1,20)              \n",
    "             }"
   ]
  },
  {
   "cell_type": "code",
   "execution_count": null,
   "id": "b5c3a4a1",
   "metadata": {},
   "outputs": [],
   "source": [
    "from sklearn.ensemble import GradientBoostingClassifier"
   ]
  },
  {
   "cell_type": "code",
   "execution_count": null,
   "id": "557d18ab",
   "metadata": {},
   "outputs": [],
   "source": [
    "model7 = GradientBoostingClassifier()"
   ]
  },
  {
   "cell_type": "code",
   "execution_count": null,
   "id": "69a20744",
   "metadata": {},
   "outputs": [],
   "source": [
    "random_search2 = RandomizedSearchCV(estimator = model7, param_distributions = param_grid2, cv = 10, n_iter = 30)"
   ]
  },
  {
   "cell_type": "code",
   "execution_count": null,
   "id": "57705ef4",
   "metadata": {},
   "outputs": [],
   "source": [
    "random_search2.fit(x_train,y_train)"
   ]
  },
  {
   "cell_type": "code",
   "execution_count": null,
   "id": "e82a6aa3",
   "metadata": {},
   "outputs": [],
   "source": [
    "random_search2.best_estimator_"
   ]
  },
  {
   "cell_type": "code",
   "execution_count": null,
   "id": "1e962753",
   "metadata": {},
   "outputs": [],
   "source": [
    "random_search2.best_score_"
   ]
  },
  {
   "cell_type": "code",
   "execution_count": null,
   "id": "f125a702",
   "metadata": {},
   "outputs": [],
   "source": [
    "random_search2.score(x_train,y_train)"
   ]
  },
  {
   "cell_type": "code",
   "execution_count": null,
   "id": "8a43710b",
   "metadata": {},
   "outputs": [],
   "source": [
    "random_search2.score(x_test,y_test)"
   ]
  },
  {
   "cell_type": "code",
   "execution_count": null,
   "id": "91023d36",
   "metadata": {},
   "outputs": [],
   "source": []
  },
  {
   "cell_type": "markdown",
   "id": "9a7748d8",
   "metadata": {},
   "source": [
    "### predicting input 1"
   ]
  },
  {
   "cell_type": "code",
   "execution_count": null,
   "id": "b0bcf81c",
   "metadata": {},
   "outputs": [],
   "source": [
    "input_data = (0.0453,0.0523,0.0843,0.0689,0.1183,0.2583,0.2156,0.3481,0.3337,0.2872,0.4918,0.6552,0.6919,0.7797,0.7464,0.9444,1.0000,0.8874,0.8024,0.7818,0.5212,0.4052,0.3957,0.3914,0.3250,0.3200,0.3271,0.2767,0.4423,0.2028,0.3788,0.2947,0.1984,0.2341,0.1306,0.4182,0.3835,0.1057,0.1840,0.1970,0.1674,0.0583,0.1401,0.1628,0.0621,0.0203,0.0530,0.0742,0.0409,0.0061,0.0125,0.0084,0.0089,0.0048,0.0094,0.0191,0.0140,0.0049,0.0052,0.0044)"
   ]
  },
  {
   "cell_type": "code",
   "execution_count": null,
   "id": "d015d2d4",
   "metadata": {},
   "outputs": [],
   "source": [
    "input_data_as_numpy_array = np.asarray(input_data)\n",
    "input_data_reshaped = input_data_as_numpy_array.reshape(1,-1)"
   ]
  },
  {
   "cell_type": "markdown",
   "id": "cac25f6e",
   "metadata": {},
   "source": [
    "#### logistic regression prediction"
   ]
  },
  {
   "cell_type": "code",
   "execution_count": null,
   "id": "84db6395",
   "metadata": {},
   "outputs": [],
   "source": [
    "prediction1 = model.predict(input_data_reshaped)\n",
    "print(prediction1)\n"
   ]
  },
  {
   "cell_type": "markdown",
   "id": "249e5a3f",
   "metadata": {},
   "source": [
    "#### svm model prediction"
   ]
  },
  {
   "cell_type": "code",
   "execution_count": null,
   "id": "3d2f3160",
   "metadata": {},
   "outputs": [],
   "source": [
    "prediction2 = model1.predict(input_data_reshaped)\n",
    "print(prediction2)"
   ]
  },
  {
   "cell_type": "markdown",
   "id": "684e6b1d",
   "metadata": {},
   "source": [
    "#### random forest(after hyper parameter tuning)"
   ]
  },
  {
   "cell_type": "code",
   "execution_count": null,
   "id": "e813057a",
   "metadata": {},
   "outputs": [],
   "source": [
    "prediction3 = random_search.predict(input_data_reshaped)\n",
    "print(prediction3)"
   ]
  },
  {
   "cell_type": "markdown",
   "id": "6a2b112f",
   "metadata": {},
   "source": [
    "#### ADAboost classifier(after hyper parameter tuning)"
   ]
  },
  {
   "cell_type": "code",
   "execution_count": null,
   "id": "33fbe8b9",
   "metadata": {},
   "outputs": [],
   "source": [
    "prediction4 = random_search1.predict(input_data_reshaped)\n",
    "print(prediction4)"
   ]
  },
  {
   "cell_type": "code",
   "execution_count": null,
   "id": "bf825d02",
   "metadata": {},
   "outputs": [],
   "source": [
    "#Gradient boosting classifier(after hyper parameter tuning)\n",
    "prediction5 = random_search2.predict(input_data_reshaped)\n",
    "print(prediction5)"
   ]
  },
  {
   "cell_type": "markdown",
   "id": "2f9ce209",
   "metadata": {},
   "source": [
    "### predicting input 2"
   ]
  },
  {
   "cell_type": "code",
   "execution_count": null,
   "id": "b436311d",
   "metadata": {},
   "outputs": [],
   "source": [
    "input2 = (0.0968,0.0821,0.0629,0.0608,0.0617,0.1207,0.0944,0.4223,0.5744,0.5025,0.3488,0.17,0.2076,0.3087,0.4224,0.5312,0.2436,0.1884,0.1908,0.8321,1,0.4076,0.096,0.1928,0.2419,0.379,0.2893,0.3451,0.3777,0.5213,0.2316,0.3335,0.4781,0.6116,0.6705,0.7375,0.7356,0.7792,0.6788,0.5259,0.2762,0.1545,0.2019,0.2231,0.4221,0.3067,0.1329,0.1349,0.1057,0.0499,0.0206,0.0073,0.0081,0.0303,0.019,0.0212,0.0126,0.0201,0.021,0.0041)"
   ]
  },
  {
   "cell_type": "code",
   "execution_count": null,
   "id": "5b15885a",
   "metadata": {},
   "outputs": [],
   "source": [
    "input_data_as_numpy_array2 = np.asarray(input2)\n",
    "input_data_reshaped2 = input_data_as_numpy_array2.reshape(1,-1)"
   ]
  },
  {
   "cell_type": "code",
   "execution_count": null,
   "id": "475d8a88",
   "metadata": {
    "scrolled": true
   },
   "outputs": [],
   "source": [
    "#logistic regression prediction\n",
    "prediction1_2 = model.predict(input_data_reshaped2)\n",
    "print(prediction1_2)"
   ]
  },
  {
   "cell_type": "code",
   "execution_count": null,
   "id": "d896de00",
   "metadata": {},
   "outputs": [],
   "source": [
    "#svm model prediction\n",
    "prediction2_2 = model1.predict(input_data_reshaped2)\n",
    "print(prediction2_2)"
   ]
  },
  {
   "cell_type": "code",
   "execution_count": null,
   "id": "d6e02c5f",
   "metadata": {},
   "outputs": [],
   "source": [
    "#random forest(after hyper parameter tuning)\n",
    "prediction3_2 = random_search.predict(input_data_reshaped2)\n",
    "print(prediction3_2)"
   ]
  },
  {
   "cell_type": "code",
   "execution_count": null,
   "id": "51aac3d5",
   "metadata": {},
   "outputs": [],
   "source": [
    "#ADAboost classifier(after hyper parameter tuning)\n",
    "prediction4_2 = random_search1.predict(input_data_reshaped2)\n",
    "print(prediction4_2)"
   ]
  },
  {
   "cell_type": "code",
   "execution_count": null,
   "id": "db4b387f",
   "metadata": {
    "scrolled": true
   },
   "outputs": [],
   "source": [
    "#Gradient boosting classifier(after hyper parameter tuning)\n",
    "prediction5_2 = random_search2.predict(input_data_reshaped)\n",
    "print(prediction5_2)"
   ]
  }
 ],
 "metadata": {
  "kernelspec": {
   "display_name": "Python 3 (ipykernel)",
   "language": "python",
   "name": "python3"
  },
  "language_info": {
   "codemirror_mode": {
    "name": "ipython",
    "version": 3
   },
   "file_extension": ".py",
   "mimetype": "text/x-python",
   "name": "python",
   "nbconvert_exporter": "python",
   "pygments_lexer": "ipython3",
   "version": "3.10.9"
  }
 },
 "nbformat": 4,
 "nbformat_minor": 5
}
